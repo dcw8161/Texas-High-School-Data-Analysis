{
  "nbformat": 4,
  "nbformat_minor": 0,
  "metadata": {
    "accelerator": "TPU",
    "colab": {
      "name": "TX_High_Schools_PyCaret_H2O_Regression.ipynb",
      "provenance": [],
      "collapsed_sections": [],
      "include_colab_link": true
    },
    "kernelspec": {
      "display_name": "Python 3.6",
      "language": "python",
      "name": "python36"
    },
    "language_info": {
      "codemirror_mode": {
        "name": "ipython",
        "version": 3
      },
      "file_extension": ".py",
      "mimetype": "text/x-python",
      "name": "python",
      "nbconvert_exporter": "python",
      "pygments_lexer": "ipython3",
      "version": "3.6.6"
    },
    "widgets": {
      "application/vnd.jupyter.widget-state+json": {
        "44f3a1450f6543cc94ec09cca0395f68": {
          "model_module": "@jupyter-widgets/controls",
          "model_name": "HBoxModel",
          "model_module_version": "1.5.0",
          "state": {
            "_view_name": "HBoxView",
            "_dom_classes": [],
            "_model_name": "HBoxModel",
            "_view_module": "@jupyter-widgets/controls",
            "_model_module_version": "1.5.0",
            "_view_count": null,
            "_view_module_version": "1.5.0",
            "box_style": "",
            "layout": "IPY_MODEL_932e8f837e2b4770a347e80874a900b7",
            "_model_module": "@jupyter-widgets/controls",
            "children": [
              "IPY_MODEL_caed840fba644d31bef9fb2a9b50c209",
              "IPY_MODEL_c5bc784fa8a64e55bb8bfa5fb2b90940",
              "IPY_MODEL_91af225bd5cd465e8cef7547cdc65d58"
            ]
          }
        },
        "932e8f837e2b4770a347e80874a900b7": {
          "model_module": "@jupyter-widgets/base",
          "model_name": "LayoutModel",
          "model_module_version": "1.2.0",
          "state": {
            "_view_name": "LayoutView",
            "grid_template_rows": null,
            "right": null,
            "justify_content": null,
            "_view_module": "@jupyter-widgets/base",
            "overflow": null,
            "_model_module_version": "1.2.0",
            "_view_count": null,
            "flex_flow": "row wrap",
            "width": "100%",
            "min_width": null,
            "border": null,
            "align_items": null,
            "bottom": null,
            "_model_module": "@jupyter-widgets/base",
            "top": null,
            "grid_column": null,
            "overflow_y": null,
            "overflow_x": null,
            "grid_auto_flow": null,
            "grid_area": null,
            "grid_template_columns": null,
            "flex": null,
            "_model_name": "LayoutModel",
            "justify_items": null,
            "grid_row": null,
            "max_height": null,
            "align_content": null,
            "visibility": null,
            "align_self": null,
            "height": null,
            "min_height": null,
            "padding": null,
            "grid_auto_rows": null,
            "grid_gap": null,
            "max_width": null,
            "order": null,
            "_view_module_version": "1.2.0",
            "grid_template_areas": null,
            "object_position": null,
            "object_fit": null,
            "grid_auto_columns": null,
            "margin": null,
            "display": "inline-flex",
            "left": null
          }
        },
        "caed840fba644d31bef9fb2a9b50c209": {
          "model_module": "@jupyter-widgets/controls",
          "model_name": "HTMLModel",
          "model_module_version": "1.5.0",
          "state": {
            "_view_name": "HTMLView",
            "style": "IPY_MODEL_4734d2d4d25547d280ed547533bd26e4",
            "_dom_classes": [],
            "description": "",
            "_model_name": "HTMLModel",
            "placeholder": "​",
            "_view_module": "@jupyter-widgets/controls",
            "_model_module_version": "1.5.0",
            "value": "Done! Use &#x27;show&#x27; commands to display/save.   ",
            "_view_count": null,
            "_view_module_version": "1.5.0",
            "description_tooltip": null,
            "_model_module": "@jupyter-widgets/controls",
            "layout": "IPY_MODEL_db2ccaba042c40028fc844ca1aaf58ec"
          }
        },
        "c5bc784fa8a64e55bb8bfa5fb2b90940": {
          "model_module": "@jupyter-widgets/controls",
          "model_name": "FloatProgressModel",
          "model_module_version": "1.5.0",
          "state": {
            "_view_name": "ProgressView",
            "style": "IPY_MODEL_b146d58f249941179baa85f49aff970a",
            "_dom_classes": [],
            "description": "",
            "_model_name": "FloatProgressModel",
            "bar_style": "success",
            "max": 1,
            "_view_module": "@jupyter-widgets/controls",
            "_model_module_version": "1.5.0",
            "value": 1,
            "_view_count": null,
            "_view_module_version": "1.5.0",
            "orientation": "horizontal",
            "min": 0,
            "description_tooltip": null,
            "_model_module": "@jupyter-widgets/controls",
            "layout": "IPY_MODEL_3196bdd09e5c4622821a6166688a5070"
          }
        },
        "91af225bd5cd465e8cef7547cdc65d58": {
          "model_module": "@jupyter-widgets/controls",
          "model_name": "HTMLModel",
          "model_module_version": "1.5.0",
          "state": {
            "_view_name": "HTMLView",
            "style": "IPY_MODEL_0a0a492f21544bbaaa8bad0c3cd2d123",
            "_dom_classes": [],
            "description": "",
            "_model_name": "HTMLModel",
            "placeholder": "​",
            "_view_module": "@jupyter-widgets/controls",
            "_model_module_version": "1.5.0",
            "value": " [100%]   00:01 -&gt; (00:00 left)",
            "_view_count": null,
            "_view_module_version": "1.5.0",
            "description_tooltip": null,
            "_model_module": "@jupyter-widgets/controls",
            "layout": "IPY_MODEL_c3674914fdf3420291b813f7e3c13475"
          }
        },
        "4734d2d4d25547d280ed547533bd26e4": {
          "model_module": "@jupyter-widgets/controls",
          "model_name": "DescriptionStyleModel",
          "model_module_version": "1.5.0",
          "state": {
            "_view_name": "StyleView",
            "_model_name": "DescriptionStyleModel",
            "description_width": "",
            "_view_module": "@jupyter-widgets/base",
            "_model_module_version": "1.5.0",
            "_view_count": null,
            "_view_module_version": "1.2.0",
            "_model_module": "@jupyter-widgets/controls"
          }
        },
        "db2ccaba042c40028fc844ca1aaf58ec": {
          "model_module": "@jupyter-widgets/base",
          "model_name": "LayoutModel",
          "model_module_version": "1.2.0",
          "state": {
            "_view_name": "LayoutView",
            "grid_template_rows": null,
            "right": null,
            "justify_content": null,
            "_view_module": "@jupyter-widgets/base",
            "overflow": null,
            "_model_module_version": "1.2.0",
            "_view_count": null,
            "flex_flow": null,
            "width": null,
            "min_width": null,
            "border": null,
            "align_items": null,
            "bottom": null,
            "_model_module": "@jupyter-widgets/base",
            "top": null,
            "grid_column": null,
            "overflow_y": null,
            "overflow_x": null,
            "grid_auto_flow": null,
            "grid_area": null,
            "grid_template_columns": null,
            "flex": null,
            "_model_name": "LayoutModel",
            "justify_items": null,
            "grid_row": null,
            "max_height": null,
            "align_content": null,
            "visibility": null,
            "align_self": null,
            "height": null,
            "min_height": null,
            "padding": null,
            "grid_auto_rows": null,
            "grid_gap": null,
            "max_width": null,
            "order": null,
            "_view_module_version": "1.2.0",
            "grid_template_areas": null,
            "object_position": null,
            "object_fit": null,
            "grid_auto_columns": null,
            "margin": null,
            "display": null,
            "left": null
          }
        },
        "b146d58f249941179baa85f49aff970a": {
          "model_module": "@jupyter-widgets/controls",
          "model_name": "ProgressStyleModel",
          "model_module_version": "1.5.0",
          "state": {
            "_view_name": "StyleView",
            "_model_name": "ProgressStyleModel",
            "description_width": "",
            "_view_module": "@jupyter-widgets/base",
            "_model_module_version": "1.5.0",
            "_view_count": null,
            "_view_module_version": "1.2.0",
            "bar_color": null,
            "_model_module": "@jupyter-widgets/controls"
          }
        },
        "3196bdd09e5c4622821a6166688a5070": {
          "model_module": "@jupyter-widgets/base",
          "model_name": "LayoutModel",
          "model_module_version": "1.2.0",
          "state": {
            "_view_name": "LayoutView",
            "grid_template_rows": null,
            "right": null,
            "justify_content": null,
            "_view_module": "@jupyter-widgets/base",
            "overflow": null,
            "_model_module_version": "1.2.0",
            "_view_count": null,
            "flex_flow": null,
            "width": null,
            "min_width": null,
            "border": null,
            "align_items": null,
            "bottom": null,
            "_model_module": "@jupyter-widgets/base",
            "top": null,
            "grid_column": null,
            "overflow_y": null,
            "overflow_x": null,
            "grid_auto_flow": null,
            "grid_area": null,
            "grid_template_columns": null,
            "flex": "2",
            "_model_name": "LayoutModel",
            "justify_items": null,
            "grid_row": null,
            "max_height": null,
            "align_content": null,
            "visibility": null,
            "align_self": null,
            "height": null,
            "min_height": null,
            "padding": null,
            "grid_auto_rows": null,
            "grid_gap": null,
            "max_width": null,
            "order": null,
            "_view_module_version": "1.2.0",
            "grid_template_areas": null,
            "object_position": null,
            "object_fit": null,
            "grid_auto_columns": null,
            "margin": null,
            "display": null,
            "left": null
          }
        },
        "0a0a492f21544bbaaa8bad0c3cd2d123": {
          "model_module": "@jupyter-widgets/controls",
          "model_name": "DescriptionStyleModel",
          "model_module_version": "1.5.0",
          "state": {
            "_view_name": "StyleView",
            "_model_name": "DescriptionStyleModel",
            "description_width": "",
            "_view_module": "@jupyter-widgets/base",
            "_model_module_version": "1.5.0",
            "_view_count": null,
            "_view_module_version": "1.2.0",
            "_model_module": "@jupyter-widgets/controls"
          }
        },
        "c3674914fdf3420291b813f7e3c13475": {
          "model_module": "@jupyter-widgets/base",
          "model_name": "LayoutModel",
          "model_module_version": "1.2.0",
          "state": {
            "_view_name": "LayoutView",
            "grid_template_rows": null,
            "right": null,
            "justify_content": null,
            "_view_module": "@jupyter-widgets/base",
            "overflow": null,
            "_model_module_version": "1.2.0",
            "_view_count": null,
            "flex_flow": null,
            "width": null,
            "min_width": null,
            "border": null,
            "align_items": null,
            "bottom": null,
            "_model_module": "@jupyter-widgets/base",
            "top": null,
            "grid_column": null,
            "overflow_y": null,
            "overflow_x": null,
            "grid_auto_flow": null,
            "grid_area": null,
            "grid_template_columns": null,
            "flex": null,
            "_model_name": "LayoutModel",
            "justify_items": null,
            "grid_row": null,
            "max_height": null,
            "align_content": null,
            "visibility": null,
            "align_self": null,
            "height": null,
            "min_height": null,
            "padding": null,
            "grid_auto_rows": null,
            "grid_gap": null,
            "max_width": null,
            "order": null,
            "_view_module_version": "1.2.0",
            "grid_template_areas": null,
            "object_position": null,
            "object_fit": null,
            "grid_auto_columns": null,
            "margin": null,
            "display": null,
            "left": null
          }
        },
        "80390306370d4904a469a9b9ac5d7e43": {
          "model_module": "@jupyter-widgets/controls",
          "model_name": "IntProgressModel",
          "model_module_version": "1.5.0",
          "state": {
            "_view_name": "ProgressView",
            "style": "IPY_MODEL_0a03b50cb50146d08211bc9ac8662101",
            "_dom_classes": [],
            "description": "Processing: ",
            "_model_name": "IntProgressModel",
            "bar_style": "",
            "max": 94,
            "_view_module": "@jupyter-widgets/controls",
            "_model_module_version": "1.5.0",
            "value": 44,
            "_view_count": null,
            "_view_module_version": "1.5.0",
            "orientation": "horizontal",
            "min": 0,
            "description_tooltip": null,
            "_model_module": "@jupyter-widgets/controls",
            "layout": "IPY_MODEL_f5502c89b11b40ea9a592c92ae97eb27"
          }
        },
        "0a03b50cb50146d08211bc9ac8662101": {
          "model_module": "@jupyter-widgets/controls",
          "model_name": "ProgressStyleModel",
          "model_module_version": "1.5.0",
          "state": {
            "_view_name": "StyleView",
            "_model_name": "ProgressStyleModel",
            "description_width": "",
            "_view_module": "@jupyter-widgets/base",
            "_model_module_version": "1.5.0",
            "_view_count": null,
            "_view_module_version": "1.2.0",
            "bar_color": null,
            "_model_module": "@jupyter-widgets/controls"
          }
        },
        "f5502c89b11b40ea9a592c92ae97eb27": {
          "model_module": "@jupyter-widgets/base",
          "model_name": "LayoutModel",
          "model_module_version": "1.2.0",
          "state": {
            "_view_name": "LayoutView",
            "grid_template_rows": null,
            "right": null,
            "justify_content": null,
            "_view_module": "@jupyter-widgets/base",
            "overflow": null,
            "_model_module_version": "1.2.0",
            "_view_count": null,
            "flex_flow": null,
            "width": null,
            "min_width": null,
            "border": null,
            "align_items": null,
            "bottom": null,
            "_model_module": "@jupyter-widgets/base",
            "top": null,
            "grid_column": null,
            "overflow_y": null,
            "overflow_x": null,
            "grid_auto_flow": null,
            "grid_area": null,
            "grid_template_columns": null,
            "flex": null,
            "_model_name": "LayoutModel",
            "justify_items": null,
            "grid_row": null,
            "max_height": null,
            "align_content": null,
            "visibility": null,
            "align_self": null,
            "height": null,
            "min_height": null,
            "padding": null,
            "grid_auto_rows": null,
            "grid_gap": null,
            "max_width": null,
            "order": null,
            "_view_module_version": "1.2.0",
            "grid_template_areas": null,
            "object_position": null,
            "object_fit": null,
            "grid_auto_columns": null,
            "margin": null,
            "display": null,
            "left": null
          }
        },
        "87f1638793a9413996b921ad86ece663": {
          "model_module": "@jupyter-widgets/controls",
          "model_name": "IntProgressModel",
          "model_module_version": "1.5.0",
          "state": {
            "_view_name": "ProgressView",
            "style": "IPY_MODEL_69d1fb2c5727413590011fe4340c737c",
            "_dom_classes": [],
            "description": "Processing: ",
            "_model_name": "IntProgressModel",
            "bar_style": "",
            "max": 4,
            "_view_module": "@jupyter-widgets/controls",
            "_model_module_version": "1.5.0",
            "value": 4,
            "_view_count": null,
            "_view_module_version": "1.5.0",
            "orientation": "horizontal",
            "min": 0,
            "description_tooltip": null,
            "_model_module": "@jupyter-widgets/controls",
            "layout": "IPY_MODEL_d5153cc82ae74976ac6e5a4d1fcc344f"
          }
        },
        "69d1fb2c5727413590011fe4340c737c": {
          "model_module": "@jupyter-widgets/controls",
          "model_name": "ProgressStyleModel",
          "model_module_version": "1.5.0",
          "state": {
            "_view_name": "StyleView",
            "_model_name": "ProgressStyleModel",
            "description_width": "",
            "_view_module": "@jupyter-widgets/base",
            "_model_module_version": "1.5.0",
            "_view_count": null,
            "_view_module_version": "1.2.0",
            "bar_color": null,
            "_model_module": "@jupyter-widgets/controls"
          }
        },
        "d5153cc82ae74976ac6e5a4d1fcc344f": {
          "model_module": "@jupyter-widgets/base",
          "model_name": "LayoutModel",
          "model_module_version": "1.2.0",
          "state": {
            "_view_name": "LayoutView",
            "grid_template_rows": null,
            "right": null,
            "justify_content": null,
            "_view_module": "@jupyter-widgets/base",
            "overflow": null,
            "_model_module_version": "1.2.0",
            "_view_count": null,
            "flex_flow": null,
            "width": null,
            "min_width": null,
            "border": null,
            "align_items": null,
            "bottom": null,
            "_model_module": "@jupyter-widgets/base",
            "top": null,
            "grid_column": null,
            "overflow_y": null,
            "overflow_x": null,
            "grid_auto_flow": null,
            "grid_area": null,
            "grid_template_columns": null,
            "flex": null,
            "_model_name": "LayoutModel",
            "justify_items": null,
            "grid_row": null,
            "max_height": null,
            "align_content": null,
            "visibility": null,
            "align_self": null,
            "height": null,
            "min_height": null,
            "padding": null,
            "grid_auto_rows": null,
            "grid_gap": null,
            "max_width": null,
            "order": null,
            "_view_module_version": "1.2.0",
            "grid_template_areas": null,
            "object_position": null,
            "object_fit": null,
            "grid_auto_columns": null,
            "margin": null,
            "display": null,
            "left": null
          }
        }
      }
    }
  },
  "cells": [
    {
      "cell_type": "markdown",
      "metadata": {
        "id": "view-in-github",
        "colab_type": "text"
      },
      "source": [
        "<a href=\"https://colab.research.google.com/github/dcw8161/Texas-High-School-Data-Analysis/blob/main/TX_High_Schools_PyCaret_H2O_Regression.ipynb\" target=\"_parent\"><img src=\"https://colab.research.google.com/assets/colab-badge.svg\" alt=\"Open In Colab\"/></a>"
      ]
    },
    {
      "cell_type": "code",
      "metadata": {
        "id": "0S8skcHFY1fh"
      },
      "source": [
        "# NumPy for numerical computing\n",
        "import numpy as np"
      ],
      "execution_count": null,
      "outputs": []
    },
    {
      "cell_type": "code",
      "metadata": {
        "id": "thsV6G3W6kQs"
      },
      "source": [
        "# Pandas for DataFrames\n",
        "import pandas as pd"
      ],
      "execution_count": null,
      "outputs": []
    },
    {
      "cell_type": "code",
      "metadata": {
        "id": "jnqiVXnKNcyC",
        "colab": {
          "base_uri": "https://localhost:8080/",
          "height": 915
        },
        "outputId": "0e1cfd2f-5e34-45b2-aad3-4e792b8d90b4"
      },
      "source": [
        "# Assigning the dataset to a variable\n",
        "df = pd.read_csv('/content/Texas - High Schools.csv')\n",
        "df"
      ],
      "execution_count": null,
      "outputs": [
        {
          "output_type": "execute_result",
          "data": {
            "text/html": [
              "<div>\n",
              "<style scoped>\n",
              "    .dataframe tbody tr th:only-of-type {\n",
              "        vertical-align: middle;\n",
              "    }\n",
              "\n",
              "    .dataframe tbody tr th {\n",
              "        vertical-align: top;\n",
              "    }\n",
              "\n",
              "    .dataframe thead th {\n",
              "        text-align: right;\n",
              "    }\n",
              "</style>\n",
              "<table border=\"1\" class=\"dataframe\">\n",
              "  <thead>\n",
              "    <tr style=\"text-align: right;\">\n",
              "      <th></th>\n",
              "      <th>School</th>\n",
              "      <th>School URL</th>\n",
              "      <th>District</th>\n",
              "      <th>District URL</th>\n",
              "      <th>City</th>\n",
              "      <th>City URL</th>\n",
              "      <th>Zip</th>\n",
              "      <th>County</th>\n",
              "      <th>Phone</th>\n",
              "      <th>Low Grade</th>\n",
              "      <th>High Grade</th>\n",
              "      <th>Is Title I</th>\n",
              "      <th>Is Charter</th>\n",
              "      <th>Is Magnet</th>\n",
              "      <th>Is Virtual</th>\n",
              "      <th>Number Students</th>\n",
              "      <th>Number Fulltime Teachers</th>\n",
              "      <th>Student/Teacher Ratio</th>\n",
              "      <th>Percent Free/Disc Lunch</th>\n",
              "      <th>Percent African American</th>\n",
              "      <th>Percent American Indian</th>\n",
              "      <th>Percent Asian</th>\n",
              "      <th>Percent Hispanic</th>\n",
              "      <th>Percent Pacific Islander</th>\n",
              "      <th>Percent Two or More Races</th>\n",
              "      <th>Percent White</th>\n",
              "      <th>Standard Score</th>\n",
              "    </tr>\n",
              "  </thead>\n",
              "  <tbody>\n",
              "    <tr>\n",
              "      <th>0</th>\n",
              "      <td>Irma Lerma Rangel Young Women's Leadership School</td>\n",
              "      <td>https://www.schooldigger.com/go/TX/schools/162...</td>\n",
              "      <td>Dallas Independent School District</td>\n",
              "      <td>https://www.schooldigger.com/go/TX/district/16...</td>\n",
              "      <td>Dallas</td>\n",
              "      <td>https://www.schooldigger.com/go/TX/city/Dallas...</td>\n",
              "      <td>75210</td>\n",
              "      <td>Dallas</td>\n",
              "      <td>(972) 749-5200</td>\n",
              "      <td>9</td>\n",
              "      <td>12</td>\n",
              "      <td>Yes</td>\n",
              "      <td>No</td>\n",
              "      <td>Yes</td>\n",
              "      <td>Yes</td>\n",
              "      <td>270</td>\n",
              "      <td>19.0</td>\n",
              "      <td>14.2</td>\n",
              "      <td>0.84</td>\n",
              "      <td>0.17</td>\n",
              "      <td>0.00</td>\n",
              "      <td>0.03</td>\n",
              "      <td>0.76</td>\n",
              "      <td>0.00</td>\n",
              "      <td>0.00</td>\n",
              "      <td>0.03</td>\n",
              "      <td>97.8</td>\n",
              "    </tr>\n",
              "    <tr>\n",
              "      <th>1</th>\n",
              "      <td>School Of Science And Engineering</td>\n",
              "      <td>https://www.schooldigger.com/go/TX/schools/162...</td>\n",
              "      <td>Dallas Independent School District</td>\n",
              "      <td>https://www.schooldigger.com/go/TX/district/16...</td>\n",
              "      <td>Dallas</td>\n",
              "      <td>https://www.schooldigger.com/go/TX/city/Dallas...</td>\n",
              "      <td>75203</td>\n",
              "      <td>Dallas</td>\n",
              "      <td>(972) 925-5960</td>\n",
              "      <td>9</td>\n",
              "      <td>12</td>\n",
              "      <td>Yes</td>\n",
              "      <td>No</td>\n",
              "      <td>Yes</td>\n",
              "      <td>Yes</td>\n",
              "      <td>395</td>\n",
              "      <td>24.0</td>\n",
              "      <td>16.4</td>\n",
              "      <td>0.66</td>\n",
              "      <td>0.16</td>\n",
              "      <td>0.02</td>\n",
              "      <td>0.11</td>\n",
              "      <td>0.55</td>\n",
              "      <td>0.01</td>\n",
              "      <td>0.01</td>\n",
              "      <td>0.15</td>\n",
              "      <td>97.7</td>\n",
              "    </tr>\n",
              "    <tr>\n",
              "      <th>2</th>\n",
              "      <td>Lasa High School</td>\n",
              "      <td>https://www.schooldigger.com/go/TX/schools/089...</td>\n",
              "      <td>Austin Independent School District</td>\n",
              "      <td>https://www.schooldigger.com/go/TX/district/08...</td>\n",
              "      <td>Austin</td>\n",
              "      <td>https://www.schooldigger.com/go/TX/city/Austin...</td>\n",
              "      <td>78724</td>\n",
              "      <td>Travis</td>\n",
              "      <td>(512) 414-2589</td>\n",
              "      <td>9</td>\n",
              "      <td>12</td>\n",
              "      <td>No</td>\n",
              "      <td>No</td>\n",
              "      <td>No</td>\n",
              "      <td>No</td>\n",
              "      <td>1002</td>\n",
              "      <td>62.0</td>\n",
              "      <td>16.1</td>\n",
              "      <td>0.12</td>\n",
              "      <td>0.02</td>\n",
              "      <td>0.00</td>\n",
              "      <td>0.17</td>\n",
              "      <td>0.21</td>\n",
              "      <td>0.00</td>\n",
              "      <td>0.04</td>\n",
              "      <td>0.56</td>\n",
              "      <td>97.7</td>\n",
              "    </tr>\n",
              "    <tr>\n",
              "      <th>3</th>\n",
              "      <td>School For The Talented And Gifted</td>\n",
              "      <td>https://www.schooldigger.com/go/TX/schools/162...</td>\n",
              "      <td>Dallas Independent School District</td>\n",
              "      <td>https://www.schooldigger.com/go/TX/district/16...</td>\n",
              "      <td>Dallas</td>\n",
              "      <td>https://www.schooldigger.com/go/TX/city/Dallas...</td>\n",
              "      <td>75203</td>\n",
              "      <td>Dallas</td>\n",
              "      <td>(972) 925-5970</td>\n",
              "      <td>9</td>\n",
              "      <td>12</td>\n",
              "      <td>No</td>\n",
              "      <td>No</td>\n",
              "      <td>Yes</td>\n",
              "      <td>Yes</td>\n",
              "      <td>252</td>\n",
              "      <td>16.0</td>\n",
              "      <td>15.7</td>\n",
              "      <td>0.27</td>\n",
              "      <td>0.12</td>\n",
              "      <td>0.00</td>\n",
              "      <td>0.24</td>\n",
              "      <td>0.25</td>\n",
              "      <td>0.00</td>\n",
              "      <td>0.01</td>\n",
              "      <td>0.37</td>\n",
              "      <td>97.6</td>\n",
              "    </tr>\n",
              "    <tr>\n",
              "      <th>4</th>\n",
              "      <td>Debakey H S For Health Prof</td>\n",
              "      <td>https://www.schooldigger.com/go/TX/schools/236...</td>\n",
              "      <td>Houston Independent School District</td>\n",
              "      <td>https://www.schooldigger.com/go/TX/district/23...</td>\n",
              "      <td>Houston</td>\n",
              "      <td>https://www.schooldigger.com/go/TX/city/Housto...</td>\n",
              "      <td>77021</td>\n",
              "      <td>Harris</td>\n",
              "      <td>(713) 741-2410</td>\n",
              "      <td>9</td>\n",
              "      <td>12</td>\n",
              "      <td>Yes</td>\n",
              "      <td>No</td>\n",
              "      <td>Yes</td>\n",
              "      <td>No</td>\n",
              "      <td>844</td>\n",
              "      <td>51.0</td>\n",
              "      <td>16.5</td>\n",
              "      <td>0.42</td>\n",
              "      <td>0.17</td>\n",
              "      <td>0.00</td>\n",
              "      <td>0.44</td>\n",
              "      <td>0.28</td>\n",
              "      <td>0.01</td>\n",
              "      <td>0.01</td>\n",
              "      <td>0.10</td>\n",
              "      <td>97.3</td>\n",
              "    </tr>\n",
              "    <tr>\n",
              "      <th>...</th>\n",
              "      <td>...</td>\n",
              "      <td>...</td>\n",
              "      <td>...</td>\n",
              "      <td>...</td>\n",
              "      <td>...</td>\n",
              "      <td>...</td>\n",
              "      <td>...</td>\n",
              "      <td>...</td>\n",
              "      <td>...</td>\n",
              "      <td>...</td>\n",
              "      <td>...</td>\n",
              "      <td>...</td>\n",
              "      <td>...</td>\n",
              "      <td>...</td>\n",
              "      <td>...</td>\n",
              "      <td>...</td>\n",
              "      <td>...</td>\n",
              "      <td>...</td>\n",
              "      <td>...</td>\n",
              "      <td>...</td>\n",
              "      <td>...</td>\n",
              "      <td>...</td>\n",
              "      <td>...</td>\n",
              "      <td>...</td>\n",
              "      <td>...</td>\n",
              "      <td>...</td>\n",
              "      <td>...</td>\n",
              "    </tr>\n",
              "    <tr>\n",
              "      <th>1738</th>\n",
              "      <td>P E P</td>\n",
              "      <td>https://www.schooldigger.com/go/TX/schools/314...</td>\n",
              "      <td>Morton Independent School District</td>\n",
              "      <td>https://www.schooldigger.com/go/TX/district/31...</td>\n",
              "      <td>Pep</td>\n",
              "      <td>https://www.schooldigger.com/go/TX/city/Pep/se...</td>\n",
              "      <td>79353</td>\n",
              "      <td>Cochran</td>\n",
              "      <td>(806) 933-4499</td>\n",
              "      <td>9</td>\n",
              "      <td>12</td>\n",
              "      <td>No</td>\n",
              "      <td>No</td>\n",
              "      <td>No</td>\n",
              "      <td>Yes</td>\n",
              "      <td>3</td>\n",
              "      <td>6.0</td>\n",
              "      <td>0.5</td>\n",
              "      <td>NaN</td>\n",
              "      <td>0.00</td>\n",
              "      <td>0.00</td>\n",
              "      <td>0.00</td>\n",
              "      <td>0.67</td>\n",
              "      <td>0.00</td>\n",
              "      <td>0.00</td>\n",
              "      <td>0.33</td>\n",
              "      <td>2.4</td>\n",
              "    </tr>\n",
              "    <tr>\n",
              "      <th>1739</th>\n",
              "      <td>Edna Alternative</td>\n",
              "      <td>https://www.schooldigger.com/go/TX/schools/182...</td>\n",
              "      <td>Edna Independent School District</td>\n",
              "      <td>https://www.schooldigger.com/go/TX/district/18...</td>\n",
              "      <td>Edna</td>\n",
              "      <td>https://www.schooldigger.com/go/TX/city/Edna/s...</td>\n",
              "      <td>77957</td>\n",
              "      <td>Jackson</td>\n",
              "      <td>(361) 782-9051</td>\n",
              "      <td>8</td>\n",
              "      <td>12</td>\n",
              "      <td>No</td>\n",
              "      <td>No</td>\n",
              "      <td>No</td>\n",
              "      <td>No</td>\n",
              "      <td>28</td>\n",
              "      <td>1.0</td>\n",
              "      <td>28.0</td>\n",
              "      <td>0.71</td>\n",
              "      <td>0.29</td>\n",
              "      <td>0.04</td>\n",
              "      <td>0.00</td>\n",
              "      <td>0.46</td>\n",
              "      <td>0.00</td>\n",
              "      <td>0.00</td>\n",
              "      <td>0.21</td>\n",
              "      <td>2.3</td>\n",
              "    </tr>\n",
              "    <tr>\n",
              "      <th>1740</th>\n",
              "      <td>Pathways High School</td>\n",
              "      <td>https://www.schooldigger.com/go/TX/schools/167...</td>\n",
              "      <td>Denison Independent School District</td>\n",
              "      <td>https://www.schooldigger.com/go/TX/district/16...</td>\n",
              "      <td>Denison</td>\n",
              "      <td>https://www.schooldigger.com/go/TX/city/Deniso...</td>\n",
              "      <td>75020</td>\n",
              "      <td>Grayson</td>\n",
              "      <td>(903) 462-7150</td>\n",
              "      <td>9</td>\n",
              "      <td>12</td>\n",
              "      <td>Yes</td>\n",
              "      <td>No</td>\n",
              "      <td>No</td>\n",
              "      <td>No</td>\n",
              "      <td>21</td>\n",
              "      <td>5.0</td>\n",
              "      <td>4.2</td>\n",
              "      <td>0.76</td>\n",
              "      <td>0.29</td>\n",
              "      <td>0.05</td>\n",
              "      <td>0.00</td>\n",
              "      <td>0.14</td>\n",
              "      <td>0.00</td>\n",
              "      <td>0.00</td>\n",
              "      <td>0.52</td>\n",
              "      <td>2.2</td>\n",
              "    </tr>\n",
              "    <tr>\n",
              "      <th>1741</th>\n",
              "      <td>Graham Learning Center</td>\n",
              "      <td>https://www.schooldigger.com/go/TX/schools/213...</td>\n",
              "      <td>Graham Independent School District</td>\n",
              "      <td>https://www.schooldigger.com/go/TX/district/21...</td>\n",
              "      <td>Graham</td>\n",
              "      <td>https://www.schooldigger.com/go/TX/city/Graham...</td>\n",
              "      <td>76450</td>\n",
              "      <td>Young</td>\n",
              "      <td>(940) 549-1546</td>\n",
              "      <td>10</td>\n",
              "      <td>12</td>\n",
              "      <td>Yes</td>\n",
              "      <td>No</td>\n",
              "      <td>No</td>\n",
              "      <td>Yes</td>\n",
              "      <td>22</td>\n",
              "      <td>2.0</td>\n",
              "      <td>11.0</td>\n",
              "      <td>0.73</td>\n",
              "      <td>0.00</td>\n",
              "      <td>0.00</td>\n",
              "      <td>0.00</td>\n",
              "      <td>0.27</td>\n",
              "      <td>0.00</td>\n",
              "      <td>0.00</td>\n",
              "      <td>0.73</td>\n",
              "      <td>1.9</td>\n",
              "    </tr>\n",
              "    <tr>\n",
              "      <th>1742</th>\n",
              "      <td>Alter School</td>\n",
              "      <td>https://www.schooldigger.com/go/TX/schools/198...</td>\n",
              "      <td>Fredericksburg Independent School District</td>\n",
              "      <td>https://www.schooldigger.com/go/TX/district/19...</td>\n",
              "      <td>Fredericksburg</td>\n",
              "      <td>https://www.schooldigger.com/go/TX/city/Freder...</td>\n",
              "      <td>78624</td>\n",
              "      <td>Gillespie</td>\n",
              "      <td>(830) 990-4598</td>\n",
              "      <td>9</td>\n",
              "      <td>12</td>\n",
              "      <td>Yes</td>\n",
              "      <td>No</td>\n",
              "      <td>No</td>\n",
              "      <td>Yes</td>\n",
              "      <td>17</td>\n",
              "      <td>1.0</td>\n",
              "      <td>17.0</td>\n",
              "      <td>0.71</td>\n",
              "      <td>0.00</td>\n",
              "      <td>0.06</td>\n",
              "      <td>0.00</td>\n",
              "      <td>0.59</td>\n",
              "      <td>0.00</td>\n",
              "      <td>0.00</td>\n",
              "      <td>0.35</td>\n",
              "      <td>1.8</td>\n",
              "    </tr>\n",
              "  </tbody>\n",
              "</table>\n",
              "<p>1743 rows × 27 columns</p>\n",
              "</div>"
            ],
            "text/plain": [
              "                                                 School  ... Standard Score\n",
              "0     Irma Lerma Rangel Young Women's Leadership School  ...           97.8\n",
              "1                     School Of Science And Engineering  ...           97.7\n",
              "2                                      Lasa High School  ...           97.7\n",
              "3                    School For The Talented And Gifted  ...           97.6\n",
              "4                           Debakey H S For Health Prof  ...           97.3\n",
              "...                                                 ...  ...            ...\n",
              "1738                                              P E P  ...            2.4\n",
              "1739                                   Edna Alternative  ...            2.3\n",
              "1740                               Pathways High School  ...            2.2\n",
              "1741                             Graham Learning Center  ...            1.9\n",
              "1742                                       Alter School  ...            1.8\n",
              "\n",
              "[1743 rows x 27 columns]"
            ]
          },
          "metadata": {},
          "execution_count": 3
        }
      ]
    },
    {
      "cell_type": "code",
      "metadata": {
        "colab": {
          "base_uri": "https://localhost:8080/"
        },
        "id": "MKbtR7iUrtrG",
        "outputId": "4934dc36-6f3d-4c65-d117-bd74ddddc13e"
      },
      "source": [
        "df.School.value_counts()"
      ],
      "execution_count": null,
      "outputs": [
        {
          "output_type": "execute_result",
          "data": {
            "text/plain": [
              "Memorial High School                              4\n",
              "Lee High School                                   4\n",
              "Bowie High School                                 4\n",
              "Reagan High School                                3\n",
              "Taylor High School                                3\n",
              "                                                 ..\n",
              "Cy-Fair High School                               1\n",
              "Blanco High School                                1\n",
              "Sands Consolidated Independent School District    1\n",
              "Granbury High School                              1\n",
              "Fannindel High School                             1\n",
              "Name: School, Length: 1678, dtype: int64"
            ]
          },
          "metadata": {},
          "execution_count": 4
        }
      ]
    },
    {
      "cell_type": "code",
      "metadata": {
        "id": "fHlrD-IkY1gH",
        "colab": {
          "base_uri": "https://localhost:8080/"
        },
        "outputId": "79910791-e5d4-4a1d-ea96-bcba4b50a19a"
      },
      "source": [
        "# Listing the columns of the data set\n",
        "df.columns"
      ],
      "execution_count": null,
      "outputs": [
        {
          "output_type": "execute_result",
          "data": {
            "text/plain": [
              "Index(['School', 'School URL', 'District', 'District URL', 'City', 'City URL',\n",
              "       'Zip', 'County', 'Phone', 'Low Grade', 'High Grade', 'Is Title I',\n",
              "       'Is Charter', 'Is Magnet', 'Is Virtual', 'Number Students',\n",
              "       'Number Fulltime Teachers', 'Student/Teacher Ratio',\n",
              "       'Percent Free/Disc Lunch', 'Percent African American',\n",
              "       'Percent American Indian', 'Percent Asian', 'Percent Hispanic',\n",
              "       'Percent Pacific Islander', 'Percent Two or More Races',\n",
              "       'Percent White', 'Standard Score'],\n",
              "      dtype='object')"
            ]
          },
          "metadata": {},
          "execution_count": 5
        }
      ]
    },
    {
      "cell_type": "code",
      "metadata": {
        "id": "YaegHm1DMCHN"
      },
      "source": [
        "# Qualitiative Cleaning \n",
        "# Selecting only valid variables ignoring noise variables\n",
        "cols = ['District',  'City', 'Zip','Low Grade',\n",
        "        'County', 'Is Title I', 'Is Charter', 'Is Magnet','Is Virtual' ,'Number Students', 'Number Fulltime Teachers',\n",
        "       'Student/Teacher Ratio', 'Percent Free/Disc Lunch','Percent American Indian','Percent Pacific Islander', \n",
        "        'Percent Asian', 'Percent Hispanic',\n",
        "        'Percent Two or More Races',\n",
        "       'Percent White', 'Standard Score']"
      ],
      "execution_count": null,
      "outputs": []
    },
    {
      "cell_type": "code",
      "metadata": {
        "id": "BbWVlyYcMNhz",
        "colab": {
          "base_uri": "https://localhost:8080/"
        },
        "outputId": "5677075c-fb4a-4a7d-e457-0c9494fefdd1"
      },
      "source": [
        "# Setting the dataframe to contain only valid columns\n",
        "df1 = df[cols]\n",
        "df1.columns"
      ],
      "execution_count": null,
      "outputs": [
        {
          "output_type": "execute_result",
          "data": {
            "text/plain": [
              "Index(['District', 'City', 'Zip', 'Low Grade', 'County', 'Is Title I',\n",
              "       'Is Charter', 'Is Magnet', 'Is Virtual', 'Number Students',\n",
              "       'Number Fulltime Teachers', 'Student/Teacher Ratio',\n",
              "       'Percent Free/Disc Lunch', 'Percent American Indian',\n",
              "       'Percent Pacific Islander', 'Percent Asian', 'Percent Hispanic',\n",
              "       'Percent Two or More Races', 'Percent White', 'Standard Score'],\n",
              "      dtype='object')"
            ]
          },
          "metadata": {},
          "execution_count": 7
        }
      ]
    },
    {
      "cell_type": "code",
      "metadata": {
        "colab": {
          "base_uri": "https://localhost:8080/"
        },
        "id": "MovOfdoj5ipE",
        "outputId": "0415a614-94fc-4a92-e5ca-7f7585fc022f"
      },
      "source": [
        "df1.isnull().sum()"
      ],
      "execution_count": null,
      "outputs": [
        {
          "output_type": "execute_result",
          "data": {
            "text/plain": [
              "District                      0\n",
              "City                          0\n",
              "Zip                           0\n",
              "Low Grade                     0\n",
              "County                        0\n",
              "Is Title I                    0\n",
              "Is Charter                    0\n",
              "Is Magnet                     0\n",
              "Is Virtual                    0\n",
              "Number Students               0\n",
              "Number Fulltime Teachers     29\n",
              "Student/Teacher Ratio        31\n",
              "Percent Free/Disc Lunch       5\n",
              "Percent American Indian       3\n",
              "Percent Pacific Islander      3\n",
              "Percent Asian                 3\n",
              "Percent Hispanic              3\n",
              "Percent Two or More Races     3\n",
              "Percent White                 3\n",
              "Standard Score                0\n",
              "dtype: int64"
            ]
          },
          "metadata": {},
          "execution_count": 8
        }
      ]
    },
    {
      "cell_type": "code",
      "metadata": {
        "id": "Xrfy1uxdpNaH",
        "colab": {
          "base_uri": "https://localhost:8080/"
        },
        "outputId": "d83d653f-baf5-488a-aebd-504adf7ecd6a"
      },
      "source": [
        "m_cols=df1[['Number Fulltime Teachers', 'Student/Teacher Ratio','Percent Free/Disc Lunch','Percent American Indian','Percent Pacific Islander',\n",
        "            'Percent Asian','Percent Hispanic','Percent Two or More Races','Percent White']]\n",
        "for column in m_cols:\n",
        "    df1[column].fillna(df1[column].median(), inplace=True)\n"
      ],
      "execution_count": null,
      "outputs": [
        {
          "output_type": "stream",
          "name": "stderr",
          "text": [
            "/usr/local/lib/python3.7/dist-packages/pandas/core/series.py:4536: SettingWithCopyWarning: \n",
            "A value is trying to be set on a copy of a slice from a DataFrame\n",
            "\n",
            "See the caveats in the documentation: https://pandas.pydata.org/pandas-docs/stable/user_guide/indexing.html#returning-a-view-versus-a-copy\n",
            "  downcast=downcast,\n"
          ]
        }
      ]
    },
    {
      "cell_type": "code",
      "metadata": {
        "colab": {
          "base_uri": "https://localhost:8080/"
        },
        "id": "EEUeHB26w1bw",
        "outputId": "21fefc92-3ab1-4d69-c7d4-9b8c417101cf"
      },
      "source": [
        "df1.isnull().sum()"
      ],
      "execution_count": null,
      "outputs": [
        {
          "output_type": "execute_result",
          "data": {
            "text/plain": [
              "District                     0\n",
              "City                         0\n",
              "Zip                          0\n",
              "Low Grade                    0\n",
              "County                       0\n",
              "Is Title I                   0\n",
              "Is Charter                   0\n",
              "Is Magnet                    0\n",
              "Is Virtual                   0\n",
              "Number Students              0\n",
              "Number Fulltime Teachers     0\n",
              "Student/Teacher Ratio        0\n",
              "Percent Free/Disc Lunch      0\n",
              "Percent American Indian      0\n",
              "Percent Pacific Islander     0\n",
              "Percent Asian                0\n",
              "Percent Hispanic             0\n",
              "Percent Two or More Races    0\n",
              "Percent White                0\n",
              "Standard Score               0\n",
              "dtype: int64"
            ]
          },
          "metadata": {},
          "execution_count": 10
        }
      ]
    },
    {
      "cell_type": "code",
      "metadata": {
        "colab": {
          "base_uri": "https://localhost:8080/"
        },
        "id": "LGAoKep8zHSE",
        "outputId": "4e0229bf-3cfb-4e34-bcc4-1401bf786dd9"
      },
      "source": [
        "# Exploratory Data Analysis using latest AI based AutoEDA Package - sweetviz\n",
        "!pip install sweetviz"
      ],
      "execution_count": null,
      "outputs": [
        {
          "output_type": "stream",
          "name": "stdout",
          "text": [
            "Collecting sweetviz\n",
            "  Downloading sweetviz-2.1.3-py3-none-any.whl (15.1 MB)\n",
            "\u001b[K     |████████████████████████████████| 15.1 MB 191 kB/s \n",
            "\u001b[?25hRequirement already satisfied: scipy>=1.3.2 in /usr/local/lib/python3.7/dist-packages (from sweetviz) (1.4.1)\n",
            "Requirement already satisfied: tqdm>=4.43.0 in /usr/local/lib/python3.7/dist-packages (from sweetviz) (4.62.3)\n",
            "Requirement already satisfied: jinja2>=2.11.1 in /usr/local/lib/python3.7/dist-packages (from sweetviz) (2.11.3)\n",
            "Requirement already satisfied: matplotlib>=3.1.3 in /usr/local/lib/python3.7/dist-packages (from sweetviz) (3.2.2)\n",
            "Requirement already satisfied: importlib-resources>=1.2.0 in /usr/local/lib/python3.7/dist-packages (from sweetviz) (5.4.0)\n",
            "Requirement already satisfied: pandas!=1.0.0,!=1.0.1,!=1.0.2,>=0.25.3 in /usr/local/lib/python3.7/dist-packages (from sweetviz) (1.1.5)\n",
            "Requirement already satisfied: numpy>=1.16.0 in /usr/local/lib/python3.7/dist-packages (from sweetviz) (1.19.5)\n",
            "Requirement already satisfied: zipp>=3.1.0 in /usr/local/lib/python3.7/dist-packages (from importlib-resources>=1.2.0->sweetviz) (3.6.0)\n",
            "Requirement already satisfied: MarkupSafe>=0.23 in /usr/local/lib/python3.7/dist-packages (from jinja2>=2.11.1->sweetviz) (2.0.1)\n",
            "Requirement already satisfied: pyparsing!=2.0.4,!=2.1.2,!=2.1.6,>=2.0.1 in /usr/local/lib/python3.7/dist-packages (from matplotlib>=3.1.3->sweetviz) (3.0.6)\n",
            "Requirement already satisfied: python-dateutil>=2.1 in /usr/local/lib/python3.7/dist-packages (from matplotlib>=3.1.3->sweetviz) (2.8.2)\n",
            "Requirement already satisfied: cycler>=0.10 in /usr/local/lib/python3.7/dist-packages (from matplotlib>=3.1.3->sweetviz) (0.11.0)\n",
            "Requirement already satisfied: kiwisolver>=1.0.1 in /usr/local/lib/python3.7/dist-packages (from matplotlib>=3.1.3->sweetviz) (1.3.2)\n",
            "Requirement already satisfied: pytz>=2017.2 in /usr/local/lib/python3.7/dist-packages (from pandas!=1.0.0,!=1.0.1,!=1.0.2,>=0.25.3->sweetviz) (2018.9)\n",
            "Requirement already satisfied: six>=1.5 in /usr/local/lib/python3.7/dist-packages (from python-dateutil>=2.1->matplotlib>=3.1.3->sweetviz) (1.15.0)\n",
            "Installing collected packages: sweetviz\n",
            "Successfully installed sweetviz-2.1.3\n"
          ]
        }
      ]
    },
    {
      "cell_type": "code",
      "metadata": {
        "colab": {
          "base_uri": "https://localhost:8080/",
          "height": 103,
          "referenced_widgets": [
            "44f3a1450f6543cc94ec09cca0395f68",
            "932e8f837e2b4770a347e80874a900b7",
            "caed840fba644d31bef9fb2a9b50c209",
            "c5bc784fa8a64e55bb8bfa5fb2b90940",
            "91af225bd5cd465e8cef7547cdc65d58",
            "4734d2d4d25547d280ed547533bd26e4",
            "db2ccaba042c40028fc844ca1aaf58ec",
            "b146d58f249941179baa85f49aff970a",
            "3196bdd09e5c4622821a6166688a5070",
            "0a0a492f21544bbaaa8bad0c3cd2d123",
            "c3674914fdf3420291b813f7e3c13475"
          ]
        },
        "id": "cuGkoEzcz2ce",
        "outputId": "b290c2d9-a2c4-4608-e8da-fff3543f725e"
      },
      "source": [
        "# Importing the package for use\n",
        "import sweetviz as sv\n",
        "\n",
        "# Generate the EDA report\n",
        "Employee_EDA_report = sv.analyze(df1)\n",
        "# Convert the report to HTML \n",
        "Employee_EDA_report.show_html() # Default arguments will generate to \"SWEETVIZ_REPORT.html\"\n",
        "\n",
        "# Downloading the EDA report to local machine\n",
        "from google.colab import files\n",
        "files.download(\"SWEETVIZ_REPORT.html\")"
      ],
      "execution_count": null,
      "outputs": [
        {
          "output_type": "display_data",
          "data": {
            "application/vnd.jupyter.widget-view+json": {
              "model_id": "44f3a1450f6543cc94ec09cca0395f68",
              "version_minor": 0,
              "version_major": 2
            },
            "text/plain": [
              "                                             |          | [  0%]   00:00 -> (? left)"
            ]
          },
          "metadata": {}
        },
        {
          "output_type": "stream",
          "name": "stdout",
          "text": [
            "Report SWEETVIZ_REPORT.html was generated! NOTEBOOK/COLAB USERS: the web browser MAY not pop up, regardless, the report IS saved in your notebook/colab files.\n"
          ]
        },
        {
          "output_type": "display_data",
          "data": {
            "application/javascript": [
              "\n",
              "    async function download(id, filename, size) {\n",
              "      if (!google.colab.kernel.accessAllowed) {\n",
              "        return;\n",
              "      }\n",
              "      const div = document.createElement('div');\n",
              "      const label = document.createElement('label');\n",
              "      label.textContent = `Downloading \"${filename}\": `;\n",
              "      div.appendChild(label);\n",
              "      const progress = document.createElement('progress');\n",
              "      progress.max = size;\n",
              "      div.appendChild(progress);\n",
              "      document.body.appendChild(div);\n",
              "\n",
              "      const buffers = [];\n",
              "      let downloaded = 0;\n",
              "\n",
              "      const channel = await google.colab.kernel.comms.open(id);\n",
              "      // Send a message to notify the kernel that we're ready.\n",
              "      channel.send({})\n",
              "\n",
              "      for await (const message of channel.messages) {\n",
              "        // Send a message to notify the kernel that we're ready.\n",
              "        channel.send({})\n",
              "        if (message.buffers) {\n",
              "          for (const buffer of message.buffers) {\n",
              "            buffers.push(buffer);\n",
              "            downloaded += buffer.byteLength;\n",
              "            progress.value = downloaded;\n",
              "          }\n",
              "        }\n",
              "      }\n",
              "      const blob = new Blob(buffers, {type: 'application/binary'});\n",
              "      const a = document.createElement('a');\n",
              "      a.href = window.URL.createObjectURL(blob);\n",
              "      a.download = filename;\n",
              "      div.appendChild(a);\n",
              "      a.click();\n",
              "      div.remove();\n",
              "    }\n",
              "  "
            ],
            "text/plain": [
              "<IPython.core.display.Javascript object>"
            ]
          },
          "metadata": {}
        },
        {
          "output_type": "display_data",
          "data": {
            "application/javascript": [
              "download(\"download_d1780b92-d437-4ef5-b972-a7ca12cae44a\", \"SWEETVIZ_REPORT.html\", 1612056)"
            ],
            "text/plain": [
              "<IPython.core.display.Javascript object>"
            ]
          },
          "metadata": {}
        }
      ]
    },
    {
      "cell_type": "code",
      "metadata": {
        "id": "7992Nli5N1mv"
      },
      "source": [
        "# Installing PyCaret\n",
        "!pip install pycaret --upgrade"
      ],
      "execution_count": null,
      "outputs": []
    },
    {
      "cell_type": "code",
      "metadata": {
        "id": "eCg_Ggs5NpPG"
      },
      "source": [
        "# Setting Categorical columns\n",
        "cat_cols = ['District',\n",
        "'City',\n",
        "'Zip',\n",
        "'County',\n",
        "'Is Title I',\n",
        "'Is Charter',\n",
        "'Is Magnet',\n",
        "'Is Virtual']"
      ],
      "execution_count": null,
      "outputs": []
    },
    {
      "cell_type": "code",
      "metadata": {
        "id": "NbrJbSJ3OuMs"
      },
      "source": [
        "#To import all Regression related Pycaret libraries\n",
        "from pycaret.regression import *"
      ],
      "execution_count": null,
      "outputs": []
    },
    {
      "cell_type": "code",
      "metadata": {
        "id": "AXCcwqhSOxkX"
      },
      "source": [
        "# Setting up the Regression ML experiment\n",
        "regression_model_setup = setup(df1,  target = 'Standard Score', \n",
        "                               categorical_features= cat_cols,\n",
        "                               normalize = True,\n",
        "                               remove_outliers = True,\n",
        "                               train_size= 0.7)"
      ],
      "execution_count": null,
      "outputs": []
    },
    {
      "cell_type": "code",
      "metadata": {
        "id": "JTCJqf4PShSu",
        "colab": {
          "base_uri": "https://localhost:8080/",
          "height": 365,
          "referenced_widgets": [
            "80390306370d4904a469a9b9ac5d7e43",
            "0a03b50cb50146d08211bc9ac8662101",
            "f5502c89b11b40ea9a592c92ae97eb27"
          ]
        },
        "outputId": "044832fd-6028-4019-8126-2f8dfdcca9bb"
      },
      "source": [
        "# Running the multiple algorithms restricting run time to 1 min \n",
        "compare_models(budget_time=1)"
      ],
      "execution_count": null,
      "outputs": [
        {
          "output_type": "display_data",
          "data": {
            "text/html": [
              "<div>\n",
              "<style scoped>\n",
              "    .dataframe tbody tr th:only-of-type {\n",
              "        vertical-align: middle;\n",
              "    }\n",
              "\n",
              "    .dataframe tbody tr th {\n",
              "        vertical-align: top;\n",
              "    }\n",
              "\n",
              "    .dataframe thead th {\n",
              "        text-align: right;\n",
              "    }\n",
              "</style>\n",
              "<table border=\"1\" class=\"dataframe\">\n",
              "  <thead>\n",
              "    <tr style=\"text-align: right;\">\n",
              "      <th></th>\n",
              "      <th>Model</th>\n",
              "      <th>MAE</th>\n",
              "      <th>MSE</th>\n",
              "      <th>RMSE</th>\n",
              "      <th>R2</th>\n",
              "      <th>RMSLE</th>\n",
              "      <th>MAPE</th>\n",
              "      <th>TT (Sec)</th>\n",
              "    </tr>\n",
              "  </thead>\n",
              "  <tbody>\n",
              "    <tr>\n",
              "      <th>br</th>\n",
              "      <td>Bayesian Ridge</td>\n",
              "      <td>1.317660e+01</td>\n",
              "      <td>3.062537e+02</td>\n",
              "      <td>1.747600e+01</td>\n",
              "      <td>5.020000e-01</td>\n",
              "      <td>0.6104</td>\n",
              "      <td>7.323000e-01</td>\n",
              "      <td>8.702</td>\n",
              "    </tr>\n",
              "    <tr>\n",
              "      <th>ridge</th>\n",
              "      <td>Ridge Regression</td>\n",
              "      <td>1.349720e+01</td>\n",
              "      <td>3.236550e+02</td>\n",
              "      <td>1.796710e+01</td>\n",
              "      <td>4.716000e-01</td>\n",
              "      <td>0.6058</td>\n",
              "      <td>7.063000e-01</td>\n",
              "      <td>0.088</td>\n",
              "    </tr>\n",
              "    <tr>\n",
              "      <th>lasso</th>\n",
              "      <td>Lasso Regression</td>\n",
              "      <td>1.460520e+01</td>\n",
              "      <td>3.663126e+02</td>\n",
              "      <td>1.910860e+01</td>\n",
              "      <td>4.049000e-01</td>\n",
              "      <td>0.6621</td>\n",
              "      <td>8.864000e-01</td>\n",
              "      <td>0.051</td>\n",
              "    </tr>\n",
              "    <tr>\n",
              "      <th>en</th>\n",
              "      <td>Elastic Net</td>\n",
              "      <td>1.536960e+01</td>\n",
              "      <td>3.810648e+02</td>\n",
              "      <td>1.949120e+01</td>\n",
              "      <td>3.816000e-01</td>\n",
              "      <td>0.6789</td>\n",
              "      <td>9.397000e-01</td>\n",
              "      <td>0.051</td>\n",
              "    </tr>\n",
              "    <tr>\n",
              "      <th>omp</th>\n",
              "      <td>Orthogonal Matching Pursuit</td>\n",
              "      <td>1.440280e+01</td>\n",
              "      <td>4.159161e+02</td>\n",
              "      <td>2.025500e+01</td>\n",
              "      <td>3.242000e-01</td>\n",
              "      <td>0.6779</td>\n",
              "      <td>8.136000e-01</td>\n",
              "      <td>0.086</td>\n",
              "    </tr>\n",
              "    <tr>\n",
              "      <th>llar</th>\n",
              "      <td>Lasso Least Angle Regression</td>\n",
              "      <td>2.085700e+01</td>\n",
              "      <td>6.234562e+02</td>\n",
              "      <td>2.493920e+01</td>\n",
              "      <td>-1.050000e-02</td>\n",
              "      <td>0.8018</td>\n",
              "      <td>1.292400e+00</td>\n",
              "      <td>0.050</td>\n",
              "    </tr>\n",
              "    <tr>\n",
              "      <th>lr</th>\n",
              "      <td>Linear Regression</td>\n",
              "      <td>4.627722e+03</td>\n",
              "      <td>3.234861e+08</td>\n",
              "      <td>1.197505e+04</td>\n",
              "      <td>-5.812946e+05</td>\n",
              "      <td>3.0195</td>\n",
              "      <td>1.768598e+02</td>\n",
              "      <td>0.595</td>\n",
              "    </tr>\n",
              "    <tr>\n",
              "      <th>lar</th>\n",
              "      <td>Least Angle Regression</td>\n",
              "      <td>4.238339e+16</td>\n",
              "      <td>1.371838e+36</td>\n",
              "      <td>4.148472e+17</td>\n",
              "      <td>-2.682971e+33</td>\n",
              "      <td>12.1687</td>\n",
              "      <td>1.022751e+15</td>\n",
              "      <td>0.391</td>\n",
              "    </tr>\n",
              "  </tbody>\n",
              "</table>\n",
              "</div>"
            ],
            "text/plain": [
              "                              Model           MAE           MSE          RMSE  \\\n",
              "br                   Bayesian Ridge  1.317660e+01  3.062537e+02  1.747600e+01   \n",
              "ridge              Ridge Regression  1.349720e+01  3.236550e+02  1.796710e+01   \n",
              "lasso              Lasso Regression  1.460520e+01  3.663126e+02  1.910860e+01   \n",
              "en                      Elastic Net  1.536960e+01  3.810648e+02  1.949120e+01   \n",
              "omp     Orthogonal Matching Pursuit  1.440280e+01  4.159161e+02  2.025500e+01   \n",
              "llar   Lasso Least Angle Regression  2.085700e+01  6.234562e+02  2.493920e+01   \n",
              "lr                Linear Regression  4.627722e+03  3.234861e+08  1.197505e+04   \n",
              "lar          Least Angle Regression  4.238339e+16  1.371838e+36  4.148472e+17   \n",
              "\n",
              "                 R2    RMSLE          MAPE  TT (Sec)  \n",
              "br     5.020000e-01   0.6104  7.323000e-01     8.702  \n",
              "ridge  4.716000e-01   0.6058  7.063000e-01     0.088  \n",
              "lasso  4.049000e-01   0.6621  8.864000e-01     0.051  \n",
              "en     3.816000e-01   0.6789  9.397000e-01     0.051  \n",
              "omp    3.242000e-01   0.6779  8.136000e-01     0.086  \n",
              "llar  -1.050000e-02   0.8018  1.292400e+00     0.050  \n",
              "lr    -5.812946e+05   3.0195  1.768598e+02     0.595  \n",
              "lar   -2.682971e+33  12.1687  1.022751e+15     0.391  "
            ]
          },
          "metadata": {}
        },
        {
          "output_type": "execute_result",
          "data": {
            "text/plain": [
              "BayesianRidge(alpha_1=1e-06, alpha_2=1e-06, alpha_init=None,\n",
              "              compute_score=False, copy_X=True, fit_intercept=True,\n",
              "              lambda_1=1e-06, lambda_2=1e-06, lambda_init=None, n_iter=300,\n",
              "              normalize=False, tol=0.001, verbose=False)"
            ]
          },
          "metadata": {},
          "execution_count": 20
        }
      ]
    },
    {
      "cell_type": "code",
      "metadata": {
        "id": "EDMwirf1SmBM",
        "colab": {
          "base_uri": "https://localhost:8080/",
          "height": 421,
          "referenced_widgets": [
            "87f1638793a9413996b921ad86ece663",
            "69d1fb2c5727413590011fe4340c737c",
            "d5153cc82ae74976ac6e5a4d1fcc344f"
          ]
        },
        "outputId": "74de33b5-6cb3-4141-aa9d-9b55af093ccf"
      },
      "source": [
        "# Creating the model with the best algorithm based on the above results\n",
        "model = create_model('br')"
      ],
      "execution_count": null,
      "outputs": [
        {
          "output_type": "display_data",
          "data": {
            "text/html": [
              "<div>\n",
              "<style scoped>\n",
              "    .dataframe tbody tr th:only-of-type {\n",
              "        vertical-align: middle;\n",
              "    }\n",
              "\n",
              "    .dataframe tbody tr th {\n",
              "        vertical-align: top;\n",
              "    }\n",
              "\n",
              "    .dataframe thead th {\n",
              "        text-align: right;\n",
              "    }\n",
              "</style>\n",
              "<table border=\"1\" class=\"dataframe\">\n",
              "  <thead>\n",
              "    <tr style=\"text-align: right;\">\n",
              "      <th></th>\n",
              "      <th>MAE</th>\n",
              "      <th>MSE</th>\n",
              "      <th>RMSE</th>\n",
              "      <th>R2</th>\n",
              "      <th>RMSLE</th>\n",
              "      <th>MAPE</th>\n",
              "    </tr>\n",
              "  </thead>\n",
              "  <tbody>\n",
              "    <tr>\n",
              "      <th>0</th>\n",
              "      <td>13.2845</td>\n",
              "      <td>341.5885</td>\n",
              "      <td>18.4821</td>\n",
              "      <td>0.5203</td>\n",
              "      <td>0.6220</td>\n",
              "      <td>0.8133</td>\n",
              "    </tr>\n",
              "    <tr>\n",
              "      <th>1</th>\n",
              "      <td>12.9224</td>\n",
              "      <td>279.5418</td>\n",
              "      <td>16.7195</td>\n",
              "      <td>0.4971</td>\n",
              "      <td>0.6032</td>\n",
              "      <td>0.7469</td>\n",
              "    </tr>\n",
              "    <tr>\n",
              "      <th>2</th>\n",
              "      <td>14.0224</td>\n",
              "      <td>344.1546</td>\n",
              "      <td>18.5514</td>\n",
              "      <td>0.4754</td>\n",
              "      <td>0.7123</td>\n",
              "      <td>0.9352</td>\n",
              "    </tr>\n",
              "    <tr>\n",
              "      <th>3</th>\n",
              "      <td>13.3702</td>\n",
              "      <td>297.4782</td>\n",
              "      <td>17.2476</td>\n",
              "      <td>0.5438</td>\n",
              "      <td>0.5928</td>\n",
              "      <td>0.7352</td>\n",
              "    </tr>\n",
              "    <tr>\n",
              "      <th>4</th>\n",
              "      <td>13.7767</td>\n",
              "      <td>355.0397</td>\n",
              "      <td>18.8425</td>\n",
              "      <td>0.3759</td>\n",
              "      <td>0.5456</td>\n",
              "      <td>0.5681</td>\n",
              "    </tr>\n",
              "    <tr>\n",
              "      <th>5</th>\n",
              "      <td>13.6927</td>\n",
              "      <td>299.4362</td>\n",
              "      <td>17.3042</td>\n",
              "      <td>0.5118</td>\n",
              "      <td>0.5819</td>\n",
              "      <td>0.7083</td>\n",
              "    </tr>\n",
              "    <tr>\n",
              "      <th>6</th>\n",
              "      <td>11.9202</td>\n",
              "      <td>253.1413</td>\n",
              "      <td>15.9104</td>\n",
              "      <td>0.5043</td>\n",
              "      <td>0.6796</td>\n",
              "      <td>0.6862</td>\n",
              "    </tr>\n",
              "    <tr>\n",
              "      <th>7</th>\n",
              "      <td>12.5305</td>\n",
              "      <td>286.2335</td>\n",
              "      <td>16.9184</td>\n",
              "      <td>0.5234</td>\n",
              "      <td>0.6075</td>\n",
              "      <td>0.6953</td>\n",
              "    </tr>\n",
              "    <tr>\n",
              "      <th>8</th>\n",
              "      <td>12.3852</td>\n",
              "      <td>278.6786</td>\n",
              "      <td>16.6937</td>\n",
              "      <td>0.5512</td>\n",
              "      <td>0.5613</td>\n",
              "      <td>0.6901</td>\n",
              "    </tr>\n",
              "    <tr>\n",
              "      <th>9</th>\n",
              "      <td>13.8614</td>\n",
              "      <td>327.2450</td>\n",
              "      <td>18.0899</td>\n",
              "      <td>0.5174</td>\n",
              "      <td>0.5983</td>\n",
              "      <td>0.7445</td>\n",
              "    </tr>\n",
              "    <tr>\n",
              "      <th>Mean</th>\n",
              "      <td>13.1766</td>\n",
              "      <td>306.2537</td>\n",
              "      <td>17.4760</td>\n",
              "      <td>0.5020</td>\n",
              "      <td>0.6104</td>\n",
              "      <td>0.7323</td>\n",
              "    </tr>\n",
              "    <tr>\n",
              "      <th>SD</th>\n",
              "      <td>0.6743</td>\n",
              "      <td>32.1323</td>\n",
              "      <td>0.9187</td>\n",
              "      <td>0.0468</td>\n",
              "      <td>0.0482</td>\n",
              "      <td>0.0900</td>\n",
              "    </tr>\n",
              "  </tbody>\n",
              "</table>\n",
              "</div>"
            ],
            "text/plain": [
              "          MAE       MSE     RMSE      R2   RMSLE    MAPE\n",
              "0     13.2845  341.5885  18.4821  0.5203  0.6220  0.8133\n",
              "1     12.9224  279.5418  16.7195  0.4971  0.6032  0.7469\n",
              "2     14.0224  344.1546  18.5514  0.4754  0.7123  0.9352\n",
              "3     13.3702  297.4782  17.2476  0.5438  0.5928  0.7352\n",
              "4     13.7767  355.0397  18.8425  0.3759  0.5456  0.5681\n",
              "5     13.6927  299.4362  17.3042  0.5118  0.5819  0.7083\n",
              "6     11.9202  253.1413  15.9104  0.5043  0.6796  0.6862\n",
              "7     12.5305  286.2335  16.9184  0.5234  0.6075  0.6953\n",
              "8     12.3852  278.6786  16.6937  0.5512  0.5613  0.6901\n",
              "9     13.8614  327.2450  18.0899  0.5174  0.5983  0.7445\n",
              "Mean  13.1766  306.2537  17.4760  0.5020  0.6104  0.7323\n",
              "SD     0.6743   32.1323   0.9187  0.0468  0.0482  0.0900"
            ]
          },
          "metadata": {}
        }
      ]
    },
    {
      "cell_type": "code",
      "source": [
        "# Method 2 - Installing the H2O AI Package for Advanced ML and Deep Learning packages\n",
        "!pip install h2o"
      ],
      "metadata": {
        "id": "l05pOFZ0cdx6"
      },
      "execution_count": null,
      "outputs": []
    },
    {
      "cell_type": "code",
      "metadata": {
        "id": "ZLv21nNaXX2i"
      },
      "source": [
        "# Importing into current Working Session\n",
        "import h2o\n",
        "from h2o.automl import H2OAutoML"
      ],
      "execution_count": null,
      "outputs": []
    },
    {
      "cell_type": "code",
      "metadata": {
        "id": "dZecJ3X2XZ0n",
        "colab": {
          "base_uri": "https://localhost:8080/",
          "height": 545
        },
        "outputId": "27418a63-3423-49c5-85ba-8d2fffe2fd60"
      },
      "source": [
        "# Initializing the H2O Server\n",
        "h2o.init()"
      ],
      "execution_count": null,
      "outputs": [
        {
          "output_type": "stream",
          "name": "stdout",
          "text": [
            "Checking whether there is an H2O instance running at http://localhost:54321 ..... not found.\n",
            "Attempting to start a local H2O server...\n",
            "  Java Version: openjdk version \"11.0.11\" 2021-04-20; OpenJDK Runtime Environment (build 11.0.11+9-Ubuntu-0ubuntu2.18.04); OpenJDK 64-Bit Server VM (build 11.0.11+9-Ubuntu-0ubuntu2.18.04, mixed mode, sharing)\n",
            "  Starting server from /usr/local/lib/python3.7/dist-packages/h2o/backend/bin/h2o.jar\n",
            "  Ice root: /tmp/tmpvybyw5v0\n",
            "  JVM stdout: /tmp/tmpvybyw5v0/h2o_unknownUser_started_from_python.out\n",
            "  JVM stderr: /tmp/tmpvybyw5v0/h2o_unknownUser_started_from_python.err\n",
            "  Server is running at http://127.0.0.1:54321\n",
            "Connecting to H2O server at http://127.0.0.1:54321 ... successful.\n"
          ]
        },
        {
          "output_type": "display_data",
          "data": {
            "text/html": [
              "<div style=\"overflow:auto\"><table style=\"width:50%\"><tr><td>H2O_cluster_uptime:</td>\n",
              "<td>03 secs</td></tr>\n",
              "<tr><td>H2O_cluster_timezone:</td>\n",
              "<td>Etc/UTC</td></tr>\n",
              "<tr><td>H2O_data_parsing_timezone:</td>\n",
              "<td>UTC</td></tr>\n",
              "<tr><td>H2O_cluster_version:</td>\n",
              "<td>3.34.0.3</td></tr>\n",
              "<tr><td>H2O_cluster_version_age:</td>\n",
              "<td>1 month and 14 days </td></tr>\n",
              "<tr><td>H2O_cluster_name:</td>\n",
              "<td>H2O_from_python_unknownUser_erkwf9</td></tr>\n",
              "<tr><td>H2O_cluster_total_nodes:</td>\n",
              "<td>1</td></tr>\n",
              "<tr><td>H2O_cluster_free_memory:</td>\n",
              "<td>3.172 Gb</td></tr>\n",
              "<tr><td>H2O_cluster_total_cores:</td>\n",
              "<td>2</td></tr>\n",
              "<tr><td>H2O_cluster_allowed_cores:</td>\n",
              "<td>2</td></tr>\n",
              "<tr><td>H2O_cluster_status:</td>\n",
              "<td>locked, healthy</td></tr>\n",
              "<tr><td>H2O_connection_url:</td>\n",
              "<td>http://127.0.0.1:54321</td></tr>\n",
              "<tr><td>H2O_connection_proxy:</td>\n",
              "<td>{\"http\": null, \"https\": null}</td></tr>\n",
              "<tr><td>H2O_internal_security:</td>\n",
              "<td>False</td></tr>\n",
              "<tr><td>H2O_API_Extensions:</td>\n",
              "<td>Amazon S3, XGBoost, Algos, AutoML, Core V3, TargetEncoder, Core V4</td></tr>\n",
              "<tr><td>Python_version:</td>\n",
              "<td>3.7.12 final</td></tr></table></div>"
            ],
            "text/plain": [
              "--------------------------  ------------------------------------------------------------------\n",
              "H2O_cluster_uptime:         03 secs\n",
              "H2O_cluster_timezone:       Etc/UTC\n",
              "H2O_data_parsing_timezone:  UTC\n",
              "H2O_cluster_version:        3.34.0.3\n",
              "H2O_cluster_version_age:    1 month and 14 days\n",
              "H2O_cluster_name:           H2O_from_python_unknownUser_erkwf9\n",
              "H2O_cluster_total_nodes:    1\n",
              "H2O_cluster_free_memory:    3.172 Gb\n",
              "H2O_cluster_total_cores:    2\n",
              "H2O_cluster_allowed_cores:  2\n",
              "H2O_cluster_status:         locked, healthy\n",
              "H2O_connection_url:         http://127.0.0.1:54321\n",
              "H2O_connection_proxy:       {\"http\": null, \"https\": null}\n",
              "H2O_internal_security:      False\n",
              "H2O_API_Extensions:         Amazon S3, XGBoost, Algos, AutoML, Core V3, TargetEncoder, Core V4\n",
              "Python_version:             3.7.12 final\n",
              "--------------------------  ------------------------------------------------------------------"
            ]
          },
          "metadata": {}
        }
      ]
    },
    {
      "cell_type": "code",
      "metadata": {
        "id": "PYi1wqraXbnV",
        "colab": {
          "base_uri": "https://localhost:8080/",
          "height": 848
        },
        "outputId": "1c71a7e7-27f2-4c5f-c722-58fea8e1f8c4"
      },
      "source": [
        "# Converting Pandas dataframe to H2O dataframe\n",
        "hf = h2o.H2OFrame(df1)\n",
        "hf"
      ],
      "execution_count": null,
      "outputs": [
        {
          "output_type": "stream",
          "name": "stdout",
          "text": [
            "Parse progress: |████████████████████████████████████████████████████████████████| (done) 100%\n"
          ]
        },
        {
          "output_type": "display_data",
          "data": {
            "text/html": [
              "<table>\n",
              "<thead>\n",
              "<tr><th>District                             </th><th>City       </th><th style=\"text-align: right;\">  Zip</th><th style=\"text-align: right;\">  Low Grade</th><th>County  </th><th>Is Title I  </th><th>Is Charter  </th><th>Is Magnet  </th><th>Is Virtual  </th><th style=\"text-align: right;\">  Number Students</th><th style=\"text-align: right;\">  Number Fulltime Teachers</th><th style=\"text-align: right;\">  Student/Teacher Ratio</th><th style=\"text-align: right;\">  Percent Free/Disc Lunch</th><th style=\"text-align: right;\">  Percent American Indian</th><th style=\"text-align: right;\">  Percent Pacific Islander</th><th style=\"text-align: right;\">  Percent Asian</th><th style=\"text-align: right;\">  Percent Hispanic</th><th style=\"text-align: right;\">  Percent Two or More Races</th><th style=\"text-align: right;\">  Percent White</th><th style=\"text-align: right;\">  Standard Score</th></tr>\n",
              "</thead>\n",
              "<tbody>\n",
              "<tr><td>Dallas Independent School District   </td><td>Dallas     </td><td style=\"text-align: right;\">75210</td><td style=\"text-align: right;\">          9</td><td>Dallas  </td><td>Yes         </td><td>No          </td><td>Yes        </td><td>Yes         </td><td style=\"text-align: right;\">              270</td><td style=\"text-align: right;\">                        19</td><td style=\"text-align: right;\">                   14.2</td><td style=\"text-align: right;\">                     0.84</td><td style=\"text-align: right;\">                     0   </td><td style=\"text-align: right;\">                      0   </td><td style=\"text-align: right;\">           0.03</td><td style=\"text-align: right;\">              0.76</td><td style=\"text-align: right;\">                       0   </td><td style=\"text-align: right;\">           0.03</td><td style=\"text-align: right;\">            97.8</td></tr>\n",
              "<tr><td>Dallas Independent School District   </td><td>Dallas     </td><td style=\"text-align: right;\">75203</td><td style=\"text-align: right;\">          9</td><td>Dallas  </td><td>Yes         </td><td>No          </td><td>Yes        </td><td>Yes         </td><td style=\"text-align: right;\">              395</td><td style=\"text-align: right;\">                        24</td><td style=\"text-align: right;\">                   16.4</td><td style=\"text-align: right;\">                     0.66</td><td style=\"text-align: right;\">                     0.02</td><td style=\"text-align: right;\">                      0.01</td><td style=\"text-align: right;\">           0.11</td><td style=\"text-align: right;\">              0.55</td><td style=\"text-align: right;\">                       0.01</td><td style=\"text-align: right;\">           0.15</td><td style=\"text-align: right;\">            97.7</td></tr>\n",
              "<tr><td>Austin Independent School District   </td><td>Austin     </td><td style=\"text-align: right;\">78724</td><td style=\"text-align: right;\">          9</td><td>Travis  </td><td>No          </td><td>No          </td><td>No         </td><td>No          </td><td style=\"text-align: right;\">             1002</td><td style=\"text-align: right;\">                        62</td><td style=\"text-align: right;\">                   16.1</td><td style=\"text-align: right;\">                     0.12</td><td style=\"text-align: right;\">                     0   </td><td style=\"text-align: right;\">                      0   </td><td style=\"text-align: right;\">           0.17</td><td style=\"text-align: right;\">              0.21</td><td style=\"text-align: right;\">                       0.04</td><td style=\"text-align: right;\">           0.56</td><td style=\"text-align: right;\">            97.7</td></tr>\n",
              "<tr><td>Dallas Independent School District   </td><td>Dallas     </td><td style=\"text-align: right;\">75203</td><td style=\"text-align: right;\">          9</td><td>Dallas  </td><td>No          </td><td>No          </td><td>Yes        </td><td>Yes         </td><td style=\"text-align: right;\">              252</td><td style=\"text-align: right;\">                        16</td><td style=\"text-align: right;\">                   15.7</td><td style=\"text-align: right;\">                     0.27</td><td style=\"text-align: right;\">                     0   </td><td style=\"text-align: right;\">                      0   </td><td style=\"text-align: right;\">           0.24</td><td style=\"text-align: right;\">              0.25</td><td style=\"text-align: right;\">                       0.01</td><td style=\"text-align: right;\">           0.37</td><td style=\"text-align: right;\">            97.6</td></tr>\n",
              "<tr><td>Houston Independent School District  </td><td>Houston    </td><td style=\"text-align: right;\">77021</td><td style=\"text-align: right;\">          9</td><td>Harris  </td><td>Yes         </td><td>No          </td><td>Yes        </td><td>No          </td><td style=\"text-align: right;\">              844</td><td style=\"text-align: right;\">                        51</td><td style=\"text-align: right;\">                   16.5</td><td style=\"text-align: right;\">                     0.42</td><td style=\"text-align: right;\">                     0   </td><td style=\"text-align: right;\">                      0.01</td><td style=\"text-align: right;\">           0.44</td><td style=\"text-align: right;\">              0.28</td><td style=\"text-align: right;\">                       0.01</td><td style=\"text-align: right;\">           0.1 </td><td style=\"text-align: right;\">            97.3</td></tr>\n",
              "<tr><td>Northside Independent School District</td><td>San Antonio</td><td style=\"text-align: right;\">78229</td><td style=\"text-align: right;\">          9</td><td>Bexar   </td><td>No          </td><td>No          </td><td>Yes        </td><td>No          </td><td style=\"text-align: right;\">              852</td><td style=\"text-align: right;\">                        48</td><td style=\"text-align: right;\">                   17.7</td><td style=\"text-align: right;\">                     0.29</td><td style=\"text-align: right;\">                     0.01</td><td style=\"text-align: right;\">                      0.02</td><td style=\"text-align: right;\">           0.16</td><td style=\"text-align: right;\">              0.52</td><td style=\"text-align: right;\">                       0.04</td><td style=\"text-align: right;\">           0.21</td><td style=\"text-align: right;\">            96.9</td></tr>\n",
              "<tr><td>Dallas Independent School District   </td><td>Dallas     </td><td style=\"text-align: right;\">75202</td><td style=\"text-align: right;\">          9</td><td>Dallas  </td><td>Yes         </td><td>No          </td><td>No         </td><td>Yes         </td><td style=\"text-align: right;\">              241</td><td style=\"text-align: right;\">                        14</td><td style=\"text-align: right;\">                   17.2</td><td style=\"text-align: right;\">                     0.66</td><td style=\"text-align: right;\">                     0.01</td><td style=\"text-align: right;\">                      0.01</td><td style=\"text-align: right;\">           0.03</td><td style=\"text-align: right;\">              0.76</td><td style=\"text-align: right;\">                       0   </td><td style=\"text-align: right;\">           0.05</td><td style=\"text-align: right;\">            96.7</td></tr>\n",
              "<tr><td>Dallas Independent School District   </td><td>Dallas     </td><td style=\"text-align: right;\">75203</td><td style=\"text-align: right;\">          9</td><td>Dallas  </td><td>Yes         </td><td>No          </td><td>Yes        </td><td>Yes         </td><td style=\"text-align: right;\">              505</td><td style=\"text-align: right;\">                        30</td><td style=\"text-align: right;\">                   16.8</td><td style=\"text-align: right;\">                     0.79</td><td style=\"text-align: right;\">                     0   </td><td style=\"text-align: right;\">                      0   </td><td style=\"text-align: right;\">           0.01</td><td style=\"text-align: right;\">              0.72</td><td style=\"text-align: right;\">                       0.01</td><td style=\"text-align: right;\">           0.02</td><td style=\"text-align: right;\">            96.6</td></tr>\n",
              "<tr><td>Judson Independent School District   </td><td>Live Oak   </td><td style=\"text-align: right;\">78233</td><td style=\"text-align: right;\">          9</td><td>Bexar   </td><td>Yes         </td><td>No          </td><td>No         </td><td>Yes         </td><td style=\"text-align: right;\">              456</td><td style=\"text-align: right;\">                        19</td><td style=\"text-align: right;\">                   24  </td><td style=\"text-align: right;\">                     0.49</td><td style=\"text-align: right;\">                     0   </td><td style=\"text-align: right;\">                      0.01</td><td style=\"text-align: right;\">           0.04</td><td style=\"text-align: right;\">              0.5 </td><td style=\"text-align: right;\">                       0.05</td><td style=\"text-align: right;\">           0.19</td><td style=\"text-align: right;\">            96.6</td></tr>\n",
              "<tr><td>Dallas Independent School District   </td><td>Dallas     </td><td style=\"text-align: right;\">75211</td><td style=\"text-align: right;\">          9</td><td>Dallas  </td><td>Yes         </td><td>No          </td><td>No         </td><td>Yes         </td><td style=\"text-align: right;\">              419</td><td style=\"text-align: right;\">                        24</td><td style=\"text-align: right;\">                   17.4</td><td style=\"text-align: right;\">                     0.84</td><td style=\"text-align: right;\">                     0   </td><td style=\"text-align: right;\">                      0   </td><td style=\"text-align: right;\">           0.01</td><td style=\"text-align: right;\">              0.86</td><td style=\"text-align: right;\">                       0.01</td><td style=\"text-align: right;\">           0.01</td><td style=\"text-align: right;\">            96.4</td></tr>\n",
              "</tbody>\n",
              "</table>"
            ]
          },
          "metadata": {}
        },
        {
          "output_type": "execute_result",
          "data": {
            "text/plain": [
              ""
            ]
          },
          "metadata": {},
          "execution_count": 25
        }
      ]
    },
    {
      "cell_type": "code",
      "metadata": {
        "id": "RsuWYMVHXgSP"
      },
      "source": [
        "# Splitting the data to train and test\n",
        "splits = hf.split_frame(ratios = [0.8])\n",
        "# Assigning first split to train variable\n",
        "train = splits[0]\n",
        "# Assigning second split to test variable\n",
        "test = splits[1]"
      ],
      "execution_count": null,
      "outputs": []
    },
    {
      "cell_type": "code",
      "metadata": {
        "id": "80JywmhXXh69",
        "colab": {
          "base_uri": "https://localhost:8080/"
        },
        "outputId": "68958b99-e7e0-4faf-be31-16297309c8b8"
      },
      "source": [
        "# Invoking the Auto advanced ML and Deep learning algorithms restricting run time to 60 seconds\n",
        "aml = H2OAutoML(max_runtime_secs = 60)\n",
        "# Training using train data and testing with test data\n",
        "aml.train(y = \"Standard Score\", training_frame = train)"
      ],
      "execution_count": null,
      "outputs": [
        {
          "output_type": "stream",
          "name": "stdout",
          "text": [
            "AutoML progress: |███████████████████████████████████████████████████████████████| (done) 100%\n",
            "Model Details\n",
            "=============\n",
            "H2OStackedEnsembleEstimator :  Stacked Ensemble\n",
            "Model Key:  StackedEnsemble_AllModels_1_AutoML_1_20211122_41758\n",
            "\n",
            "No model summary for this model\n",
            "\n",
            "ModelMetricsRegressionGLM: stackedensemble\n",
            "** Reported on train data. **\n",
            "\n",
            "MSE: 22.639260569771647\n",
            "RMSE: 4.758073199286834\n",
            "MAE: 3.501993830744751\n",
            "RMSLE: NaN\n",
            "R^2: 0.9634481075007463\n",
            "Mean Residual Deviance: 22.639260569771647\n",
            "Null degrees of freedom: 1382\n",
            "Residual degrees of freedom: 1377\n",
            "Null deviance: 856593.0579007923\n",
            "Residual deviance: 31310.097367994185\n",
            "AIC: 8253.30915721056\n",
            "\n",
            "ModelMetricsRegressionGLM: stackedensemble\n",
            "** Reported on cross-validation data. **\n",
            "\n",
            "MSE: 235.50212632999057\n",
            "RMSE: 15.346078532641183\n",
            "MAE: 11.562365116377814\n",
            "RMSLE: NaN\n",
            "R^2: 0.6197734295062429\n",
            "Mean Residual Deviance: 235.50212632999057\n",
            "Null degrees of freedom: 1382\n",
            "Residual degrees of freedom: 1377\n",
            "Null deviance: 857935.9536716896\n",
            "Residual deviance: 325699.440714377\n",
            "AIC: 11492.342663207935\n"
          ]
        },
        {
          "output_type": "execute_result",
          "data": {
            "text/plain": [
              ""
            ]
          },
          "metadata": {},
          "execution_count": 27
        }
      ]
    },
    {
      "cell_type": "code",
      "metadata": {
        "id": "LPo395LFXl4M",
        "colab": {
          "base_uri": "https://localhost:8080/"
        },
        "outputId": "df73b342-168e-4dfc-efb1-3df66a7d7b5b"
      },
      "source": [
        "# Getting the prediction metrics\n",
        "perf = aml.leader.model_performance(test)\n",
        "# Displaying the performance metrics\n",
        "perf"
      ],
      "execution_count": null,
      "outputs": [
        {
          "output_type": "stream",
          "name": "stdout",
          "text": [
            "\n",
            "ModelMetricsRegressionGLM: stackedensemble\n",
            "** Reported on test data. **\n",
            "\n",
            "MSE: 284.82192152713225\n",
            "RMSE: 16.876667962815773\n",
            "MAE: 12.279370007884598\n",
            "RMSLE: 0.567499773427913\n",
            "R^2: 0.5485225977391996\n",
            "Mean Residual Deviance: 284.82192152713225\n",
            "Null degrees of freedom: 359\n",
            "Residual degrees of freedom: 354\n",
            "Null deviance: 228588.76611221526\n",
            "Residual deviance: 102535.89174976762\n",
            "AIC: 3070.3068372701323\n"
          ]
        },
        {
          "output_type": "execute_result",
          "data": {
            "text/plain": [
              ""
            ]
          },
          "metadata": {},
          "execution_count": 28
        }
      ]
    }
  ]
}